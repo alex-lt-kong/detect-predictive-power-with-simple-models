{
 "cells": [
  {
   "cell_type": "code",
   "execution_count": 1,
   "id": "2088541a-63de-4340-a8d7-134bab098c89",
   "metadata": {},
   "outputs": [],
   "source": [
    "import matplotlib.pyplot as plt\n",
    "\n",
    "# Import datasets, classifiers and performance metrics\n",
    "from sklearn import datasets, metrics\n",
    "from sklearn.model_selection import train_test_split"
   ]
  },
  {
   "cell_type": "code",
   "execution_count": 2,
   "id": "885be30b-a5cc-49d2-8ff6-ae0a7f6b1906",
   "metadata": {},
   "outputs": [
    {
     "data": {
      "image/png": "[encoded data removed]",
      "text/plain": [
       "<Figure size 720x216 with 8 Axes>"
      ]
     },
     "metadata": {
      "needs_background": "light"
     },
     "output_type": "display_data"
    }
   ],
   "source": [
    "digits = datasets.load_digits()\n",
    "\n",
    "_, axes = plt.subplots(nrows=1, ncols=8, figsize=(10, 3))\n",
    "for ax, image, label in zip(axes, digits.images, digits.target):\n",
    "    ax.set_axis_off()\n",
    "    ax.imshow(image, cmap=plt.cm.gray_r, interpolation=\"nearest\")\n",
    "    ax.set_title(\"Training: %i\" % label)"
   ]
  },
  {
   "cell_type": "code",
   "execution_count": 3,
   "id": "05b82db8-130d-4503-b1c0-dc7d7e752052",
   "metadata": {},
   "outputs": [
    {
     "name": "stdout",
     "output_type": "stream",
     "text": [
      "A total of 1797 images are in this dataset\n"
     ]
    }
   ],
   "source": [
    "n_samples = len(digits.images)\n",
    "print(f\"A total of {n_samples} images are in this dataset\")"
   ]
  },
  {
   "cell_type": "code",
   "execution_count": 9,
   "id": "f8287230-9a60-4677-8b84-4e1a46817106",
   "metadata": {},
   "outputs": [
    {
     "name": "stdout",
     "output_type": "stream",
     "text": [
      "[8 8 4 9 0 8 9 1 1 2 3 4 5 6 7 8 9 0 1 2 3 4 9 6 7 8 9 0 1 2 3 4 9 6 7 8 9\n",
      " 0 9 5 5 6 5 0 9 8 9 8 4 1 7 7 3 9 1 2 7 8 2 0 1 2 6 3 3 7 3 3 4 6 6 6 4 9\n",
      " 1 5 0 9 5 2 8 2 0 0 1 7 6 2 2 1 4 6 3 1 3 9 1 7 6 8 4 3 3 4 0 5 3 6 9 6 1\n",
      " 7 5 4 4 7 2 8 2 2 9 7 9 5 9 4 9 0 8 9 8 0 1 2 3 9 5 6 7 9 3 0 1 2 3 4 5 6\n",
      " 7 8 9 0 1 2 3 4 5 6 7 8 9 0 9 5 5 6 5 0 9 9 9 8 4 1 7 7 3 5 1 0 0 7 8 2 0\n",
      " 1 2 6 3 3 7 3 3 4 6 6 6 9 9 1 5 0 9 5 2 2 2 0 0 1 7 6 3 2 1 7 4 6 3 8 7 9\n",
      " 1 7 6 8 4 3 1 4 0 5 3 6 9 6 1 7 5 4 4 7 2 9 2 2 5 7 9 5 4 1 8 4 9 0 8 9 8\n",
      " 0 1 2 3 4 5 6 7 3 9 0 1 2 3 4 5 6 7 8 9 0 1 2 3 4 5 6 7 8 5 0 9 5 5 6 5 0\n",
      " 9 8 9 5 4 1 7 7 5 5 1 0 0 2 2 7 8 2 0 1 2 6 3 3 7 3 3 4 6 6 6 4 9 1 5 0 9\n",
      " 5 2 8 2 0 0 1 7 6 3 2 1 7 4 6 3 1 3 9 1 7 6 8 4 3 1 4 0 5 3 6 9 6 5 7 5 4\n",
      " 4 7 2 8 2 2 2 7 9 5 4 8 5 4 9 0 8 9 8 0 0 2 3 4 5 6 7 8 9 0 1 2 3 6 5 6 7\n",
      " 8 9 0 1 2 3 4 5 6 7 8 9 0 9 5 5 6 5 0 9 8 9 8 4 1 7 7 3 5 1 0 0 2 2 7 8 2\n",
      " 0 1 2 6 3 3 7 3 3 4 6 6 6 4 9 1 5 0 9 6 2 8 2 0 0 1 7 6 3 2 1 7 4 6 3 1 3\n",
      " 9 1 7 6 8 6 3 1 4 0 5 3 6 9 6 1 7 5 4 4 7 2 8 2 2 5 7 9 5 4 8 8 4 9 0 8 0\n",
      " 3 2 3 4 5 6 7 8 9 0 1 2 3 4 5 6 7 8 9 0 1 2 3 4 5 6 7 8 9 0 9 5 5 6 5 0 9\n",
      " 8 9 8 4 1 7 7 3 5 1 0 0 2 2 7 8 2 0 1 2 6 3 3 7 3 3 4 6 6 6 4 9 3 5 0 9 5\n",
      " 2 2 2 0 0 9 7 6 3 2 3 7 4 6 3 1 3 9 1 7 6 8 4 3 1 4 0 5 3 6 9 6 3 7 5 4 4\n",
      " 7 2 8 2 2 5 7 9 5 4 8 8 4 7 0 8 9 8 0 1 2 3 4 5 1 8 1 9 0 1 2 3 4 5 6 9 0\n",
      " 1 2 3 4 5 6 7 5 7 0 9 5 5 6 5 0 9 4 5 8 4 1 7 7 3 5 1 0 0 2 2 1 8 2 6 1 2\n",
      " 6 8 7 7 2 3 4 6 6 6 9 9 1 5 0 9 5 2 8 0 1 7 6 3 2 1 7 9 6 3 1 3 9 1 7 6 8\n",
      " 4 3 1 4 0 5 3 6 9 6 1 7 5 4 4 7 2 2 5 7 3 5 9 4 5 0 8 9 8 0 1 2 5 4 5 6 7\n",
      " 8 9 0 1 2 8 4 5 6 7 8 9 0 1 2 5 4 5 6 7 8 9 0 9 5 5 6 5 0 9 8 9 8 4 1 7 7\n",
      " 7 5 1 0 0 2 2 7 8 2 0 1 2 6 8 8 7 5 8 4 6 6 6 4 9 1 5 0 9 6 2 8 2 0 0 1 4\n",
      " 6 3 2 1 7 4 6 3 1 3 9 1 7 6 8 4 5 1 4 6 5 3 6 9 6 1 7 5 4 4 7 2 3 2 2 5 7\n",
      " 9 5 4 8 8 4 9 0 8 9 8]\n"
     ]
    }
   ],
   "source": [
    "from sklearn.neural_network import MLPClassifier as mlpc\n",
    "# flatten the images\n",
    "data = digits.images.reshape((n_samples, -1))\n",
    "\n",
    "clf = mlpc()\n",
    "\n",
    "# Split data into 50% train and 50% test subsets\n",
    "X_train, X_test, y_train, y_test = train_test_split(\n",
    "    data, digits.target, test_size=0.5, shuffle=False\n",
    ")\n",
    "\n",
    "# Learn the digits on the train subset\n",
    "clf.fit(X_train, y_train)\n",
    "\n",
    "# Predict the value of the digit on the test subset\n",
    "predicted = clf.predict(X_test)\n",
    "print(predicted)"
   ]
  },
  {
   "cell_type": "code",
   "execution_count": 6,
   "id": "69bec2cc-d364-4ac1-ac8c-bf8d07911e07",
   "metadata": {},
   "outputs": [
    {
     "name": "stdout",
     "output_type": "stream",
     "text": [
      "Classification report for classifier MLPClassifier():\n",
      "              precision    recall  f1-score   support\n",
      "\n",
      "           0       0.99      0.97      0.98        88\n",
      "           1       0.94      0.89      0.92        91\n",
      "           2       0.98      0.97      0.97        86\n",
      "           3       0.91      0.81      0.86        91\n",
      "           4       1.00      0.95      0.97        92\n",
      "           5       0.88      0.92      0.90        91\n",
      "           6       0.93      0.99      0.96        91\n",
      "           7       0.93      0.92      0.93        89\n",
      "           8       0.88      0.90      0.89        88\n",
      "           9       0.84      0.95      0.89        92\n",
      "\n",
      "    accuracy                           0.93       899\n",
      "   macro avg       0.93      0.93      0.93       899\n",
      "weighted avg       0.93      0.93      0.93       899\n",
      "\n",
      "\n"
     ]
    }
   ],
   "source": [
    "print(\n",
    "    f\"Classification report for classifier {clf}:\\n\"\n",
    "    f\"{metrics.classification_report(y_test, predicted)}\\n\"\n",
    ")"
   ]
  },
  {
   "cell_type": "code",
   "execution_count": 7,
   "id": "72808188-cb4d-4f6d-9f17-df54d18349e5",
   "metadata": {},
   "outputs": [
    {
     "name": "stdout",
     "output_type": "stream",
     "text": [
      "Confusion matrix:\n",
      "[[85  0  0  0  0  1  2  0  0  0]\n",
      " [ 0 81  1  1  0  0  1  1  1  5]\n",
      " [ 0  0 83  3  0  0  0  0  0  0]\n",
      " [ 0  0  0 74  0  4  0  3  9  1]\n",
      " [ 1  2  0  0 87  0  1  0  0  1]\n",
      " [ 0  0  0  0  0 84  2  0  0  5]\n",
      " [ 0  1  0  0  0  0 90  0  0  0]\n",
      " [ 0  0  0  0  0  3  0 82  0  4]\n",
      " [ 0  2  1  1  0  3  1  1 79  0]\n",
      " [ 0  0  0  2  0  1  0  1  1 87]]\n"
     ]
    },
    {
     "data": {
      "image/png": "[encoded data removed]",
      "text/plain": [
       "<Figure size 432x288 with 2 Axes>"
      ]
     },
     "metadata": {
      "needs_background": "light"
     },
     "output_type": "display_data"
    }
   ],
   "source": [
    "disp = metrics.ConfusionMatrixDisplay.from_predictions(y_test, predicted)\n",
    "disp.figure_.suptitle(\"Confusion Matrix\")\n",
    "print(f\"Confusion matrix:\\n{disp.confusion_matrix}\")\n",
    "\n",
    "plt.show()"
   ]
  }
 ],
 "metadata": {
  "kernelspec": {
   "display_name": "Python 3 (ipykernel)",
   "language": "python",
   "name": "python3"
  },
  "language_info": {
   "codemirror_mode": {
    "name": "ipython",
    "version": 3
   },
   "file_extension": ".py",
   "mimetype": "text/x-python",
   "name": "python",
   "nbconvert_exporter": "python",
   "pygments_lexer": "ipython3",
   "version": "3.9.2"
  }
 },
 "nbformat": 4,
 "nbformat_minor": 5
}
