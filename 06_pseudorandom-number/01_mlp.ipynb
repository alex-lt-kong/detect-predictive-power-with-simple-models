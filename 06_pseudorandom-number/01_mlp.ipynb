{
 "cells": [
  {
   "cell_type": "code",
   "execution_count": 1,
   "id": "54edf230-8f21-4915-94e1-34152a180e1a",
   "metadata": {},
   "outputs": [],
   "source": [
    "import random\n",
    "import sys\n",
    "\n",
    "from sklearn.model_selection import train_test_split"
   ]
  },
  {
   "cell_type": "code",
   "execution_count": 2,
   "id": "d2d4a1b0-4f69-4452-aa7f-ac6349897276",
   "metadata": {},
   "outputs": [
    {
     "data": {
      "text/plain": [
       "'3.9.2 (default, Feb 28 2021, 17:03:44) \\n[GCC 10.2.1 20210110]'"
      ]
     },
     "execution_count": 2,
     "metadata": {},
     "output_type": "execute_result"
    }
   ],
   "source": [
    "sys.version"
   ]
  },
  {
   "cell_type": "code",
   "execution_count": 3,
   "id": "63014520-e611-48b7-b046-199e6ef7d3ec",
   "metadata": {},
   "outputs": [],
   "source": [
    "random.seed(666)"
   ]
  },
  {
   "cell_type": "code",
   "execution_count": 4,
   "id": "7d387add-2e44-4f98-a955-36158567db5c",
   "metadata": {},
   "outputs": [],
   "source": [
    "ds, y = [], []\n",
    "for i in range(1_000_000):\n",
    "    # the machine's memory cannot accommodate a larger dataset\n",
    "    arr = []\n",
    "    for j in range(1_000):\n",
    "        arr.append(random.randint(0, 1))\n",
    "    y.append(random.randint(0, 1))\n",
    "    ds.append(arr)"
   ]
  },
  {
   "cell_type": "code",
   "execution_count": 5,
   "id": "d9013a62-6f3c-4317-8cc2-4423f0a599f0",
   "metadata": {},
   "outputs": [],
   "source": [
    "X_train, X_test, y_train, y_test = train_test_split(ds, y, test_size=0.5, shuffle=False)"
   ]
  },
  {
   "cell_type": "code",
   "execution_count": 6,
   "id": "6786d265-2838-4e5b-a2cc-d690efb2d428",
   "metadata": {},
   "outputs": [
    {
     "data": {
      "text/plain": [
       "MLPClassifier(hidden_layer_sizes=(300, 300, 300, 300))"
      ]
     },
     "execution_count": 6,
     "metadata": {},
     "output_type": "execute_result"
    }
   ],
   "source": [
    "from sklearn.neural_network import MLPClassifier as mlpc\n",
    "clf = mlpc(hidden_layer_sizes=(300, 300, 300, 300))\n",
    "clf.fit(X_train, y_train)"
   ]
  },
  {
   "cell_type": "code",
   "execution_count": 7,
   "id": "2c3abbc7-466a-42c2-a2fe-92f857d3d4c3",
   "metadata": {},
   "outputs": [],
   "source": [
    "y_pred = clf.predict(X_test)"
   ]
  },
  {
   "cell_type": "code",
   "execution_count": 8,
   "id": "d5795ef3-47fd-42f2-8abc-19bff2efcf07",
   "metadata": {},
   "outputs": [
    {
     "name": "stdout",
     "output_type": "stream",
     "text": [
      "Confusion matrix:\n",
      "[[     0 250322]\n",
      " [     0 249678]]\n"
     ]
    },
    {
     "data": {
      "image/png": "[encoded data removed]",
      "text/plain": [
       "<Figure size 432x288 with 2 Axes>"
      ]
     },
     "metadata": {
      "needs_background": "light"
     },
     "output_type": "display_data"
    }
   ],
   "source": [
    "from sklearn import metrics\n",
    "\n",
    "disp = metrics.ConfusionMatrixDisplay.from_predictions(y_test, y_pred)\n",
    "disp.figure_.suptitle(\"Confusion Matrix\")\n",
    "print(f\"Confusion matrix:\\n{disp.confusion_matrix}\")"
   ]
  },
  {
   "cell_type": "code",
   "execution_count": 9,
   "id": "f716158d-96c3-450d-b680-3f29e75098a8",
   "metadata": {},
   "outputs": [
    {
     "name": "stdout",
     "output_type": "stream",
     "text": [
      "Accuracy: 49.94%, Balanced accuracy: 50.00%\n"
     ]
    }
   ],
   "source": [
    "from sklearn.metrics import confusion_matrix\n",
    "tn, fp, fn, tp = confusion_matrix(y_true=y_test, y_pred=y_pred).ravel()\n",
    "accuracy = (tn + tp) / (tn + fp + fn + tp)\n",
    "tpr = tp / (tp + fn)\n",
    "fpr = fp / (fp + tn)\n",
    "tnr = tn / (tn + fp)\n",
    "balanced_accuracy = (tpr + tnr) / 2\n",
    "print(f'Accuracy: {accuracy*100:.2f}%, Balanced accuracy: {balanced_accuracy*100:.2f}%')"
   ]
  },
  {
   "cell_type": "code",
   "execution_count": null,
   "id": "3287dc9b-cc65-4fbd-a985-c2af832c3ddf",
   "metadata": {},
   "outputs": [],
   "source": []
  }
 ],
 "metadata": {
  "kernelspec": {
   "display_name": "Python 3",
   "language": "python",
   "name": "python3"
  },
  "language_info": {
   "codemirror_mode": {
    "name": "ipython",
    "version": 3
   },
   "file_extension": ".py",
   "mimetype": "text/x-python",
   "name": "python",
   "nbconvert_exporter": "python",
   "pygments_lexer": "ipython3",
   "version": "3.9.2"
  }
 },
 "nbformat": 4,
 "nbformat_minor": 5
}
