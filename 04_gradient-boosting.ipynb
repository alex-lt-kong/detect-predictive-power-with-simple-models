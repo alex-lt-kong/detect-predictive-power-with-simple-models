{
 "cells": [
  {
   "cell_type": "code",
   "execution_count": 1,
   "id": "2088541a-63de-4340-a8d7-134bab098c89",
   "metadata": {},
   "outputs": [],
   "source": [
    "from sklearn import datasets, svm, metrics\n",
    "from sklearn.model_selection import train_test_split\n",
    "\n",
    "import matplotlib.pyplot as plt\n",
    "import numpy as np"
   ]
  },
  {
   "cell_type": "code",
   "execution_count": 2,
   "id": "885be30b-a5cc-49d2-8ff6-ae0a7f6b1906",
   "metadata": {},
   "outputs": [
    {
     "name": "stdout",
     "output_type": "stream",
     "text": [
      "[[ 0.  0.  5. 13.  9.  1.  0.  0.]\n",
      " [ 0.  0. 13. 15. 10. 15.  5.  0.]\n",
      " [ 0.  3. 15.  2.  0. 11.  8.  0.]\n",
      " [ 0.  4. 12.  0.  0.  8.  8.  0.]\n",
      " [ 0.  5.  8.  0.  0.  9.  8.  0.]\n",
      " [ 0.  4. 11.  0.  1. 12.  7.  0.]\n",
      " [ 0.  2. 14.  5. 10. 12.  0.  0.]\n",
      " [ 0.  0.  6. 13. 10.  0.  0.  0.]]\n",
      "[[ 0.  0.  0. 12. 13.  5.  0.  0.]\n",
      " [ 0.  0.  0. 11. 16.  9.  0.  0.]\n",
      " [ 0.  0.  3. 15. 16.  6.  0.  0.]\n",
      " [ 0.  7. 15. 16. 16.  2.  0.  0.]\n",
      " [ 0.  0.  1. 16. 16.  3.  0.  0.]\n",
      " [ 0.  0.  1. 16. 16.  6.  0.  0.]\n",
      " [ 0.  0.  1. 16. 16.  6.  0.  0.]\n",
      " [ 0.  0.  0. 11. 16. 10.  0.  0.]]\n",
      "[[ 0.  0.  0.  4. 15. 12.  0.  0.]\n",
      " [ 0.  0.  3. 16. 15. 14.  0.  0.]\n",
      " [ 0.  0.  8. 13.  8. 16.  0.  0.]\n",
      " [ 0.  0.  1.  6. 15. 11.  0.  0.]\n",
      " [ 0.  1.  8. 13. 15.  1.  0.  0.]\n",
      " [ 0.  9. 16. 16.  5.  0.  0.  0.]\n",
      " [ 0.  3. 13. 16. 16. 11.  5.  0.]\n",
      " [ 0.  0.  0.  3. 11. 16.  9.  0.]]\n",
      "[[ 0.  0.  7. 15. 13.  1.  0.  0.]\n",
      " [ 0.  8. 13.  6. 15.  4.  0.  0.]\n",
      " [ 0.  2.  1. 13. 13.  0.  0.  0.]\n",
      " [ 0.  0.  2. 15. 11.  1.  0.  0.]\n",
      " [ 0.  0.  0.  1. 12. 12.  1.  0.]\n",
      " [ 0.  0.  0.  0.  1. 10.  8.  0.]\n",
      " [ 0.  0.  8.  4.  5. 14.  9.  0.]\n",
      " [ 0.  0.  7. 13. 13.  9.  0.  0.]]\n"
     ]
    },
    {
     "data": {
      "image/png": "[encoded data removed]",
      "text/plain": [
       "<Figure size 720x216 with 4 Axes>"
      ]
     },
     "metadata": {
      "needs_background": "light"
     },
     "output_type": "display_data"
    }
   ],
   "source": [
    "digits = datasets.load_digits()\n",
    "\n",
    "_, axes = plt.subplots(nrows=1, ncols=4, figsize=(10, 3))\n",
    "for ax, image, label in zip(axes, digits.images, digits.target):\n",
    "    ax.set_axis_off()\n",
    "    print(image)\n",
    "    ax.imshow(image, cmap=plt.cm.gray_r, interpolation=\"nearest\")\n",
    "    ax.set_title(\"Training: %i\" % label)"
   ]
  },
  {
   "cell_type": "code",
   "execution_count": 3,
   "id": "05b82db8-130d-4503-b1c0-dc7d7e752052",
   "metadata": {},
   "outputs": [
    {
     "name": "stdout",
     "output_type": "stream",
     "text": [
      "A total of 1797 images are in this dataset\n"
     ]
    }
   ],
   "source": [
    "n_samples = len(digits.images)\n",
    "print(f\"A total of {n_samples} images are in this dataset\")"
   ]
  },
  {
   "cell_type": "code",
   "execution_count": 4,
   "id": "d3b7d4af-e7f7-4b5e-9d91-2a963504c55f",
   "metadata": {},
   "outputs": [
    {
     "name": "stdout",
     "output_type": "stream",
     "text": [
      "[ 0.  0.  5. 13.  9.  1.  0.  0.  0.  0. 13. 15. 10. 15.  5.  0.  0.  3.\n",
      " 15.  2.  0. 11.  8.  0.  0.  4. 12.  0.  0.  8.  8.  0.  0.  5.  8.  0.\n",
      "  0.  9.  8.  0.  0.  4. 11.  0.  1. 12.  7.  0.  0.  2. 14.  5. 10. 12.\n",
      "  0.  0.  0.  0.  6. 13. 10.  0.  0.  0.]\n",
      "[ 0.  0.  0. 12. 13.  5.  0.  0.  0.  0.  0. 11. 16.  9.  0.  0.  0.  0.\n",
      "  3. 15. 16.  6.  0.  0.  0.  7. 15. 16. 16.  2.  0.  0.  0.  0.  1. 16.\n",
      " 16.  3.  0.  0.  0.  0.  1. 16. 16.  6.  0.  0.  0.  0.  1. 16. 16.  6.\n",
      "  0.  0.  0.  0.  0. 11. 16. 10.  0.  0.]\n",
      "[ 0.  0.  0.  4. 15. 12.  0.  0.  0.  0.  3. 16. 15. 14.  0.  0.  0.  0.\n",
      "  8. 13.  8. 16.  0.  0.  0.  0.  1.  6. 15. 11.  0.  0.  0.  1.  8. 13.\n",
      " 15.  1.  0.  0.  0.  9. 16. 16.  5.  0.  0.  0.  0.  3. 13. 16. 16. 11.\n",
      "  5.  0.  0.  0.  0.  3. 11. 16.  9.  0.]\n",
      "[ 0.  0.  7. 15. 13.  1.  0.  0.  0.  8. 13.  6. 15.  4.  0.  0.  0.  2.\n",
      "  1. 13. 13.  0.  0.  0.  0.  0.  2. 15. 11.  1.  0.  0.  0.  0.  0.  1.\n",
      " 12. 12.  1.  0.  0.  0.  0.  0.  1. 10.  8.  0.  0.  0.  8.  4.  5. 14.\n",
      "  9.  0.  0.  0.  7. 13. 13.  9.  0.  0.]\n"
     ]
    }
   ],
   "source": [
    "from sklearn.ensemble import GradientBoostingClassifier as gbc\n",
    "# flatten the images\n",
    "data = digits.images.reshape((n_samples, -1))\n",
    "for i in range(0, 4):\n",
    "    print(data[i])"
   ]
  },
  {
   "cell_type": "code",
   "execution_count": 5,
   "id": "62e62952-9d16-4ce6-8d30-6094e2d4a3d7",
   "metadata": {},
   "outputs": [
    {
     "data": {
      "text/plain": [
       "array([5, 1, 7, 8, 6, 3, 4, 0, 9, 3, 4, 7, 2, 7, 5, 7, 7, 0, 0, 5, 8, 0,\n",
       "       8, 6, 0, 8, 3, 0, 6, 6, 2, 5, 6, 9, 9, 7, 5, 9, 2, 3, 1, 9, 0, 7,\n",
       "       4, 8, 3, 6, 8, 3, 9, 3, 7, 0, 9, 5, 3, 5, 0, 8, 4, 6, 5, 9, 2, 6,\n",
       "       4, 8, 4, 6, 4, 0, 6, 0, 0, 5, 6, 6, 9, 5, 0, 9, 3, 6, 9, 6, 8, 1,\n",
       "       5, 1, 0, 8, 6, 7, 8, 3, 9, 1, 1, 8])"
      ]
     },
     "execution_count": 5,
     "metadata": {},
     "output_type": "execute_result"
    }
   ],
   "source": [
    "clf = gbc()\n",
    "\n",
    "# Split data into 50% train and 50% test subsets\n",
    "X_train, X_test, y_train, y_test = train_test_split(\n",
    "    data, digits.target, test_size=0.5, shuffle=False\n",
    ")\n",
    "\n",
    "# Learn the digits on the train subset\n",
    "clf.fit(X_train, y_train)\n",
    "predicted = clf.predict(X_test)\n",
    "# Predict the value of the digit on the test subset\n",
    "np.random.choice(a=predicted, size=100)"
   ]
  },
  {
   "cell_type": "code",
   "execution_count": 6,
   "id": "f131f15c-3d1a-4ca8-a7ee-258dc00b86d4",
   "metadata": {},
   "outputs": [
    {
     "data": {
      "text/plain": [
       "array([9., 0., 3., 3., 4., 8., 4., 4., 3., 7., 1., 9., 8., 1., 5., 9., 4.,\n",
       "       3., 6., 4., 4., 7., 8., 1., 9., 7., 8., 9., 5., 8., 6., 3., 9., 8.,\n",
       "       3., 2., 3., 8., 6., 7., 1., 0., 4., 9., 7., 8., 2., 7., 9., 4., 9.,\n",
       "       6., 7., 8., 4., 8., 5., 4., 4., 5., 2., 4., 9., 3., 7., 5., 7., 5.,\n",
       "       5., 0., 9., 5., 1., 3., 2., 6., 6., 5., 3., 1., 9., 6., 7., 3., 0.,\n",
       "       7., 3., 5., 0., 1., 0., 2., 1., 5., 5., 4., 7., 2., 2., 0.])"
      ]
     },
     "execution_count": 6,
     "metadata": {},
     "output_type": "execute_result"
    }
   ],
   "source": [
    "# This model is very naive, we need to convert regression results to discrete results.\n",
    "predicted = np.rint(predicted)\n",
    "np.random.choice(a=predicted, size=100)"
   ]
  },
  {
   "cell_type": "code",
   "execution_count": 7,
   "id": "69bec2cc-d364-4ac1-ac8c-bf8d07911e07",
   "metadata": {},
   "outputs": [
    {
     "name": "stdout",
     "output_type": "stream",
     "text": [
      "Classification report for classifier GradientBoostingClassifier():\n",
      "              precision    recall  f1-score   support\n",
      "\n",
      "           0       0.95      0.99      0.97        88\n",
      "           1       0.88      0.84      0.86        91\n",
      "           2       0.97      0.87      0.92        86\n",
      "           3       0.89      0.82      0.86        91\n",
      "           4       0.93      0.89      0.91        92\n",
      "           5       0.88      0.92      0.90        91\n",
      "           6       0.96      0.93      0.94        91\n",
      "           7       0.99      0.93      0.96        89\n",
      "           8       0.82      0.90      0.86        88\n",
      "           9       0.78      0.91      0.84        92\n",
      "\n",
      "    accuracy                           0.90       899\n",
      "   macro avg       0.91      0.90      0.90       899\n",
      "weighted avg       0.91      0.90      0.90       899\n",
      "\n",
      "\n"
     ]
    }
   ],
   "source": [
    "print(\n",
    "    f\"Classification report for classifier {clf}:\\n\"\n",
    "    f\"{metrics.classification_report(y_test, predicted)}\\n\"\n",
    ")"
   ]
  },
  {
   "cell_type": "code",
   "execution_count": 8,
   "id": "72808188-cb4d-4f6d-9f17-df54d18349e5",
   "metadata": {},
   "outputs": [
    {
     "name": "stdout",
     "output_type": "stream",
     "text": [
      "Confusion matrix:\n",
      "[[87  0  0  0  0  0  0  0  1  0]\n",
      " [ 1 76  0  2  4  0  0  0  0  8]\n",
      " [ 1  1 75  5  0  0  0  0  0  4]\n",
      " [ 0  2  1 75  0  3  0  1  8  1]\n",
      " [ 2  1  0  0 82  0  3  0  0  4]\n",
      " [ 0  0  0  0  1 84  1  0  0  5]\n",
      " [ 0  2  1  0  0  0 85  0  3  0]\n",
      " [ 0  0  0  1  1  3  0 83  1  0]\n",
      " [ 1  3  0  1  0  2  0  0 79  2]\n",
      " [ 0  1  0  0  0  3  0  0  4 84]]\n"
     ]
    },
    {
     "data": {
      "image/png": "[encoded data removed]",
      "text/plain": [
       "<Figure size 432x288 with 2 Axes>"
      ]
     },
     "metadata": {
      "needs_background": "light"
     },
     "output_type": "display_data"
    }
   ],
   "source": [
    "disp = metrics.ConfusionMatrixDisplay.from_predictions(y_test, predicted)\n",
    "disp.figure_.suptitle(\"Confusion Matrix\")\n",
    "print(f\"Confusion matrix:\\n{disp.confusion_matrix}\")\n",
    "plt.show()"
   ]
  }
 ],
 "metadata": {
  "kernelspec": {
   "display_name": "Python 3 (ipykernel)",
   "language": "python",
   "name": "python3"
  },
  "language_info": {
   "codemirror_mode": {
    "name": "ipython",
    "version": 3
   },
   "file_extension": ".py",
   "mimetype": "text/x-python",
   "name": "python",
   "nbconvert_exporter": "python",
   "pygments_lexer": "ipython3",
   "version": "3.9.2"
  }
 },
 "nbformat": 4,
 "nbformat_minor": 5
}
