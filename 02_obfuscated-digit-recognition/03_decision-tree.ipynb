{
 "cells": [
  {
   "cell_type": "code",
   "execution_count": 1,
   "id": "2088541a-63de-4340-a8d7-134bab098c89",
   "metadata": {},
   "outputs": [],
   "source": [
    "import matplotlib.pyplot as plt\n",
    "from sklearn import metrics\n",
    "from sklearn.model_selection import train_test_split\n",
    "import importlib"
   ]
  },
  {
   "cell_type": "code",
   "execution_count": 2,
   "id": "885be30b-a5cc-49d2-8ff6-ae0a7f6b1906",
   "metadata": {},
   "outputs": [
    {
     "data": {
      "image/png": "[encoded data removed]",
      "text/plain": [
       "<Figure size 1080x216 with 10 Axes>"
      ]
     },
     "metadata": {
      "needs_background": "light"
     },
     "output_type": "display_data"
    }
   ],
   "source": [
    "obfuscator = importlib.machinery.SourceFileLoader('obfuscator', './obfuscator.py').load_module()\n",
    "X, y = obfuscator.get_obfuscated_dataset()\n",
    "_, axes = plt.subplots(nrows=1, ncols=10, figsize=(15, 3))\n",
    "for ax, image, label in zip(axes, X, y):\n",
    "    ax.set_axis_off()\n",
    "    ax.imshow(image, cmap=plt.cm.gray_r, interpolation=\"nearest\")\n",
    "    ax.set_title(\"Training: %i\" % label)"
   ]
  },
  {
   "cell_type": "code",
   "execution_count": 3,
   "id": "05b82db8-130d-4503-b1c0-dc7d7e752052",
   "metadata": {},
   "outputs": [
    {
     "name": "stdout",
     "output_type": "stream",
     "text": [
      "A total of 1797 images are in this dataset\n"
     ]
    }
   ],
   "source": [
    "n_samples = len(X)\n",
    "print(f\"A total of {n_samples} images are in this dataset\")"
   ]
  },
  {
   "cell_type": "code",
   "execution_count": 4,
   "id": "f8287230-9a60-4677-8b84-4e1a46817106",
   "metadata": {},
   "outputs": [
    {
     "name": "stdout",
     "output_type": "stream",
     "text": [
      "[3 4 0 3 8 7 4 4 2 9 8 5 7 5 7 1 8 8 8 2 7 9 8 4 9 3 2 1 1 1 1 4 6 2 4 2 7\n",
      " 2 5 7 6 5 2 8 4 3 8 6 5 4 1 7 2 4 5 1 4 8 4 9 1 2 4 1 8 5 1 3 8 3 7 9 0 6\n",
      " 4 8 3 1 6 6 2 3 1 5 0 9 5 8 8 6 3 7 1 5 2 2 6 8 6 7 5 5 3 2 3 4 4 0 1 8 0\n",
      " 1 2 2 2 5 0 3 8 9 5 6 9 1 2 4 7 4 1 0 1 3 8 0 0 3 5 8 2 6 7 6 5 2 5 5 4 5\n",
      " 1 8 7 5 5 0 1 4 5 2 1 4 8 9 2 6 4 0 9 1 5 4 8 1 6 2 0 1 9 1 3 2 1 2 8 6 6\n",
      " 0 3 5 8 8 1 5 7 2 9 7 5 6 1 3 4 6 6 6 5 7 5 1 4 5 2 5 7 6 1 3 0 3 9 2 7 9\n",
      " 7 1 6 9 0 7 1 7 9 0 8 7 4 7 4 3 9 0 5 6 8 6 5 5 6 4 3 7 3 3 9 3 3 5 0 3 4\n",
      " 7 3 0 3 0 4 0 2 8 3 0 4 4 9 8 1 6 6 0 6 0 1 6 9 6 0 1 6 4 7 7 5 0 7 3 4 8\n",
      " 7 1 2 4 7 0 7 0 9 4 9 9 5 8 3 6 3 6 5 7 2 3 1 9 5 9 2 4 2 2 4 8 6 9 6 4 0\n",
      " 5 5 5 7 9 1 5 2 5 7 4 1 0 1 3 3 1 0 2 8 8 8 6 8 6 9 3 1 9 5 3 1 7 9 9 3 4\n",
      " 5 3 5 8 4 1 7 7 2 3 1 7 0 4 6 9 8 8 7 2 8 8 8 6 7 6 1 8 1 1 6 5 2 2 4 4 2\n",
      " 6 5 5 5 1 4 8 6 4 5 7 0 9 9 1 9 0 9 3 4 6 0 2 8 5 4 1 2 4 0 5 3 4 8 7 4 1\n",
      " 8 3 8 8 6 6 3 4 8 3 3 9 0 4 7 4 7 1 5 4 1 9 1 7 6 7 7 1 1 1 8 2 9 3 5 6 6\n",
      " 0 9 0 5 2 7 3 4 2 0 6 2 5 0 8 0 1 8 8 9 0 9 3 3 1 8 0 5 5 0 2 1 8 3 1 9 7\n",
      " 8 4 3 5 1 8 1 8 2 8 1 9 4 4 8 5 0 2 6 5 7 6 8 7 3 4 5 0 4 4 5 6 8 2 6 4 0\n",
      " 9 3 1 9 6 8 4 1 5 8 5 4 7 5 4 7 3 4 7 1 8 0 0 7 0 5 8 1 4 9 9 0 7 3 6 4 5\n",
      " 6 0 6 4 2 0 4 9 6 1 9 6 1 5 8 8 9 5 9 4 3 1 6 5 0 7 6 9 9 3 9 6 2 6 1 3 1\n",
      " 4 0 8 8 5 1 5 2 9 6 3 5 7 9 2 1 7 3 0 9 1 2 8 8 0 9 7 2 0 7 4 7 1 5 2 0 7\n",
      " 1 2 9 5 8 1 4 9 9 8 5 9 7 3 7 2 2 1 3 3 7 0 8 7 9 9 4 9 9 0 4 7 7 0 2 0 5\n",
      " 7 2 6 4 1 0 6 9 9 5 5 3 5 9 5 0 5 0 7 5 7 6 9 2 3 4 2 1 4 3 3 2 9 8 0 2 5\n",
      " 5 9 0 6 5 7 6 4 4 1 6 1 5 4 8 1 7 8 0 0 0 6 9 6 6 6 4 5 7 3 4 7 4 5 1 6 1\n",
      " 4 8 2 5 5 0 9 7 3 7 0 5 4 9 7 6 1 4 7 2 8 4 3 8 4 0 1 8 0 2 1 5 9 1 8 3 0\n",
      " 7 4 3 6 2 6 8 9 2 9 6 5 1 7 3 6 2 1 0 2 5 1 5 2 7 2 4 6 1 2 2 3 4 7 1 6 4\n",
      " 7 1 8 9 2 8 5 4 3 6 4 8 4 3 7 7 9 8 8 1 7 2 6 0 7 0 1 7 0 2 3 2 1 8 9 9 3\n",
      " 0 3 1 4 8 2 3 4 8 6 8]\n"
     ]
    }
   ],
   "source": [
    "from sklearn.tree import DecisionTreeClassifier as dtc\n",
    "\n",
    "data = X.reshape((n_samples, -1))\n",
    "\n",
    "clf = dtc()\n",
    "\n",
    "# Split data into 50% train and 50% test subsets\n",
    "X_train, X_test, y_train, y_test = train_test_split(data, y, test_size=0.5)\n",
    "\n",
    "# Learn the digits on the train subset\n",
    "clf.fit(X_train, y_train)\n",
    "\n",
    "# Predict the value of the digit on the test subset\n",
    "predicted = clf.predict(X_test)\n",
    "print(predicted)"
   ]
  },
  {
   "cell_type": "code",
   "execution_count": 5,
   "id": "69bec2cc-d364-4ac1-ac8c-bf8d07911e07",
   "metadata": {},
   "outputs": [
    {
     "name": "stdout",
     "output_type": "stream",
     "text": [
      "Classification report for classifier DecisionTreeClassifier():\n",
      "              precision    recall  f1-score   support\n",
      "\n",
      "           0       0.96      0.93      0.95        85\n",
      "           1       0.71      0.86      0.77        84\n",
      "           2       0.88      0.76      0.81        95\n",
      "           3       0.80      0.76      0.78        86\n",
      "           4       0.83      0.94      0.88        88\n",
      "           5       0.83      0.89      0.86        92\n",
      "           6       0.91      0.89      0.90        88\n",
      "           7       0.81      0.84      0.82        87\n",
      "           8       0.72      0.73      0.73        93\n",
      "           9       0.93      0.76      0.84       101\n",
      "\n",
      "    accuracy                           0.83       899\n",
      "   macro avg       0.84      0.84      0.83       899\n",
      "weighted avg       0.84      0.83      0.83       899\n",
      "\n",
      "\n"
     ]
    }
   ],
   "source": [
    "print(\n",
    "    f\"Classification report for classifier {clf}:\\n\"\n",
    "    f\"{metrics.classification_report(y_test, predicted)}\\n\"\n",
    ")"
   ]
  },
  {
   "cell_type": "code",
   "execution_count": 6,
   "id": "72808188-cb4d-4f6d-9f17-df54d18349e5",
   "metadata": {},
   "outputs": [
    {
     "name": "stdout",
     "output_type": "stream",
     "text": [
      "Confusion matrix:\n",
      "[[79  0  0  0  5  0  0  0  1  0]\n",
      " [ 0 72  1  0  1  1  3  1  4  1]\n",
      " [ 0  4 72  2  1  5  2  2  7  0]\n",
      " [ 0  6  1 65  0  2  1  3  6  2]\n",
      " [ 0  0  0  1 83  2  0  2  0  0]\n",
      " [ 1  3  0  1  2 82  0  0  3  0]\n",
      " [ 0  2  1  1  3  2 78  0  1  0]\n",
      " [ 1  2  1  1  4  2  0 73  1  2]\n",
      " [ 0  7  6  6  0  1  1  3 68  1]\n",
      " [ 1  6  0  4  1  2  1  6  3 77]]\n"
     ]
    },
    {
     "data": {
      "image/png": "[encoded data removed]",
      "text/plain": [
       "<Figure size 432x288 with 2 Axes>"
      ]
     },
     "metadata": {
      "needs_background": "light"
     },
     "output_type": "display_data"
    }
   ],
   "source": [
    "disp = metrics.ConfusionMatrixDisplay.from_predictions(y_test, predicted)\n",
    "disp.figure_.suptitle(\"Confusion Matrix\")\n",
    "print(f\"Confusion matrix:\\n{disp.confusion_matrix}\")\n",
    "\n",
    "plt.show()"
   ]
  }
 ],
 "metadata": {
  "kernelspec": {
   "display_name": "Python 3 (ipykernel)",
   "language": "python",
   "name": "python3"
  },
  "language_info": {
   "codemirror_mode": {
    "name": "ipython",
    "version": 3
   },
   "file_extension": ".py",
   "mimetype": "text/x-python",
   "name": "python",
   "nbconvert_exporter": "python",
   "pygments_lexer": "ipython3",
   "version": "3.9.2"
  }
 },
 "nbformat": 4,
 "nbformat_minor": 5
}
