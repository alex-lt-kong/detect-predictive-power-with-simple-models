{
 "cells": [
  {
   "cell_type": "code",
   "execution_count": 9,
   "id": "2088541a-63de-4340-a8d7-134bab098c89",
   "metadata": {},
   "outputs": [],
   "source": [
    "import matplotlib.pyplot as plt\n",
    "from sklearn import metrics\n",
    "from sklearn.model_selection import train_test_split\n",
    "import importlib"
   ]
  },
  {
   "cell_type": "code",
   "execution_count": 10,
   "id": "885be30b-a5cc-49d2-8ff6-ae0a7f6b1906",
   "metadata": {},
   "outputs": [
    {
     "data": {
      "image/png": "[encoded data removed]",
      "text/plain": [
       "<Figure size 1080x216 with 10 Axes>"
      ]
     },
     "metadata": {
      "needs_background": "light"
     },
     "output_type": "display_data"
    }
   ],
   "source": [
    "obfuscator = importlib.machinery.SourceFileLoader('obfuscator', './obfuscator.py').load_module()\n",
    "X, y = obfuscator.get_obfuscated_dataset()\n",
    "_, axes = plt.subplots(nrows=1, ncols=10, figsize=(15, 3))\n",
    "for ax, image, label in zip(axes, X, y):\n",
    "    ax.set_axis_off()\n",
    "    ax.imshow(image, cmap=plt.cm.gray_r, interpolation=\"nearest\")\n",
    "    ax.set_title(\"Training: %i\" % label)"
   ]
  },
  {
   "cell_type": "code",
   "execution_count": 11,
   "id": "05b82db8-130d-4503-b1c0-dc7d7e752052",
   "metadata": {},
   "outputs": [
    {
     "name": "stdout",
     "output_type": "stream",
     "text": [
      "A total of 1797 images are in this dataset\n"
     ]
    }
   ],
   "source": [
    "n_samples = len(X)\n",
    "print(f\"A total of {n_samples} images are in this dataset\")"
   ]
  },
  {
   "cell_type": "code",
   "execution_count": 12,
   "id": "f8287230-9a60-4677-8b84-4e1a46817106",
   "metadata": {},
   "outputs": [
    {
     "name": "stdout",
     "output_type": "stream",
     "text": [
      "[5 9 9 2 0 9 8 6 5 5 7 7 4 9 9 7 9 7 9 5 3 0 4 5 5 1 0 7 4 4 6 3 2 0 8 5 8\n",
      " 4 2 7 2 0 5 7 4 6 6 7 2 0 2 1 4 6 9 9 3 2 7 6 0 2 9 4 1 1 2 5 0 8 5 1 9 4\n",
      " 2 4 9 0 5 1 7 7 6 8 7 2 0 3 9 1 7 3 4 0 9 5 9 0 1 0 2 2 5 1 4 3 6 1 2 5 1\n",
      " 8 4 1 5 0 7 0 5 9 8 9 5 5 6 1 9 1 5 6 9 4 1 2 0 4 9 8 8 3 1 8 4 8 8 0 8 5\n",
      " 3 7 9 0 7 9 2 6 4 3 0 3 8 8 3 0 1 2 9 3 3 9 4 9 7 8 1 8 0 6 5 0 9 2 5 2 3\n",
      " 2 5 2 7 7 2 2 4 1 3 7 7 6 3 1 4 4 5 1 2 1 8 9 0 8 6 3 2 8 3 7 8 4 1 5 7 0\n",
      " 5 5 9 1 0 5 4 5 2 6 6 3 3 8 7 5 6 1 9 2 0 5 2 5 2 1 6 1 9 4 8 5 4 6 0 9 7\n",
      " 6 5 9 8 9 7 1 7 4 6 4 8 3 7 5 0 9 8 6 9 3 6 7 8 1 8 0 3 2 6 9 8 0 0 7 7 2\n",
      " 6 0 9 1 8 6 1 6 2 4 6 2 3 5 5 9 9 5 8 7 6 6 1 5 1 6 1 6 3 4 1 6 2 1 3 0 0\n",
      " 3 0 1 4 8 2 1 0 4 9 3 1 1 6 2 5 8 2 7 5 9 2 9 0 5 4 3 2 5 1 5 6 6 9 8 9 7\n",
      " 6 5 9 7 0 2 1 4 2 5 5 3 3 0 4 6 9 2 1 2 4 4 8 4 7 8 8 7 1 2 9 4 6 6 6 7 8\n",
      " 8 7 2 4 4 3 4 6 4 1 1 2 9 0 1 3 6 0 1 0 5 8 5 8 3 0 6 0 6 0 8 1 7 4 7 4 5\n",
      " 3 9 7 6 4 4 3 0 6 2 7 7 1 5 8 5 0 5 2 8 3 5 0 4 6 9 4 1 9 1 4 9 2 4 7 5 3\n",
      " 3 3 8 9 5 1 5 6 5 7 4 2 3 0 8 1 0 8 7 3 0 8 6 3 9 6 7 6 5 2 8 2 8 2 0 7 7\n",
      " 6 0 4 0 8 1 1 6 3 2 0 7 8 8 4 3 5 4 6 5 3 0 4 3 8 2 6 7 8 4 6 0 7 6 9 6 9\n",
      " 2 8 5 9 6 2 7 4 1 5 2 2 5 3 0 1 7 9 2 3 9 3 0 8 0 0 3 7 2 1 8 9 5 1 1 0 7\n",
      " 3 8 4 4 0 5 6 3 4 1 2 4 1 8 0 8 7 0 0 9 6 4 5 0 2 2 5 9 1 4 2 9 6 3 2 9 9\n",
      " 3 1 5 9 8 6 6 0 6 4 3 7 8 8 8 9 1 9 2 6 1 8 7 2 6 5 7 1 0 4 9 3 1 3 4 0 1\n",
      " 1 2 6 2 6 5 4 8 1 3 6 9 9 3 0 7 5 3 3 6 2 2 7 7 4 1 8 3 5 6 6 0 2 2 4 6 2\n",
      " 6 3 6 2 8 4 6 1 2 2 9 4 1 4 8 3 0 6 4 1 7 5 9 9 2 5 3 5 3 1 2 5 5 0 2 0 2\n",
      " 9 5 1 9 4 4 3 0 3 4 9 6 6 5 6 6 5 9 9 6 6 3 0 1 9 3 0 9 5 7 7 3 7 8 2 1 1\n",
      " 9 9 4 8 7 0 8 3 0 8 7 8 4 3 3 2 6 4 6 3 3 3 3 4 0 4 7 7 8 7 9 6 3 3 2 7 9\n",
      " 6 7 0 2 7 3 9 7 6 6 1 7 1 6 8 5 0 2 0 5 9 1 7 6 1 1 2 3 5 4 9 2 4 5 7 1 6\n",
      " 5 2 3 3 0 0 6 1 1 9 7 8 5 9 1 5 6 0 4 7 6 9 4 4 5 3 6 7 3 5 6 1 8 2 5 7 9\n",
      " 2 1 4 7 3 7 5 3 6 9 2]\n"
     ]
    }
   ],
   "source": [
    "from sklearn.neural_network import MLPClassifier as mlpc\n",
    "\n",
    "data = X.reshape((n_samples, -1))\n",
    "\n",
    "clf = mlpc()\n",
    "\n",
    "# Split data into 50% train and 50% test subsets\n",
    "X_train, X_test, y_train, y_test = train_test_split(data, y, test_size=0.5)\n",
    "\n",
    "# Learn the digits on the train subset\n",
    "clf.fit(X_train, y_train)\n",
    "\n",
    "# Predict the value of the digit on the test subset\n",
    "predicted = clf.predict(X_test)\n",
    "print(predicted)"
   ]
  },
  {
   "cell_type": "code",
   "execution_count": 13,
   "id": "69bec2cc-d364-4ac1-ac8c-bf8d07911e07",
   "metadata": {},
   "outputs": [
    {
     "name": "stdout",
     "output_type": "stream",
     "text": [
      "Classification report for classifier MLPClassifier():\n",
      "              precision    recall  f1-score   support\n",
      "\n",
      "           0       0.99      0.97      0.98        89\n",
      "           1       0.96      0.94      0.95        94\n",
      "           2       1.00      0.99      0.99        94\n",
      "           3       0.98      0.98      0.98        89\n",
      "           4       0.98      0.92      0.95        92\n",
      "           5       0.96      0.97      0.96        92\n",
      "           6       0.93      0.99      0.96        94\n",
      "           7       0.99      0.98      0.98        87\n",
      "           8       0.92      0.94      0.93        78\n",
      "           9       0.94      0.97      0.95        90\n",
      "\n",
      "    accuracy                           0.96       899\n",
      "   macro avg       0.96      0.96      0.96       899\n",
      "weighted avg       0.96      0.96      0.96       899\n",
      "\n",
      "\n"
     ]
    }
   ],
   "source": [
    "print(\n",
    "    f\"Classification report for classifier {clf}:\\n\"\n",
    "    f\"{metrics.classification_report(y_test, predicted)}\\n\"\n",
    ")"
   ]
  },
  {
   "cell_type": "code",
   "execution_count": 14,
   "id": "72808188-cb4d-4f6d-9f17-df54d18349e5",
   "metadata": {},
   "outputs": [
    {
     "name": "stdout",
     "output_type": "stream",
     "text": [
      "Confusion matrix:\n",
      "[[86  0  0  0  1  0  2  0  0  0]\n",
      " [ 0 88  0  0  0  0  3  0  3  0]\n",
      " [ 0  0 93  0  0  0  0  0  1  0]\n",
      " [ 0  0  0 87  0  1  0  0  1  0]\n",
      " [ 0  3  0  0 85  0  1  1  0  2]\n",
      " [ 0  0  0  1  0 89  1  0  0  1]\n",
      " [ 1  0  0  0  0  0 93  0  0  0]\n",
      " [ 0  0  0  1  0  0  0 85  0  1]\n",
      " [ 0  0  0  0  1  2  0  0 73  2]\n",
      " [ 0  1  0  0  0  1  0  0  1 87]]\n"
     ]
    },
    {
     "data": {
      "image/png": "[encoded data removed]",
      "text/plain": [
       "<Figure size 432x288 with 2 Axes>"
      ]
     },
     "metadata": {
      "needs_background": "light"
     },
     "output_type": "display_data"
    }
   ],
   "source": [
    "disp = metrics.ConfusionMatrixDisplay.from_predictions(y_test, predicted)\n",
    "disp.figure_.suptitle(\"Confusion Matrix\")\n",
    "print(f\"Confusion matrix:\\n{disp.confusion_matrix}\")\n",
    "\n",
    "plt.show()"
   ]
  }
 ],
 "metadata": {
  "kernelspec": {
   "display_name": "Python 3 (ipykernel)",
   "language": "python",
   "name": "python3"
  },
  "language_info": {
   "codemirror_mode": {
    "name": "ipython",
    "version": 3
   },
   "file_extension": ".py",
   "mimetype": "text/x-python",
   "name": "python",
   "nbconvert_exporter": "python",
   "pygments_lexer": "ipython3",
   "version": "3.9.2"
  }
 },
 "nbformat": 4,
 "nbformat_minor": 5
}
