{
 "cells": [
  {
   "cell_type": "code",
   "execution_count": 1,
   "id": "2088541a-63de-4340-a8d7-134bab098c89",
   "metadata": {},
   "outputs": [],
   "source": [
    "from sklearn import metrics\n",
    "from sklearn.model_selection import train_test_split\n",
    "\n",
    "import importlib\n",
    "import matplotlib.pyplot as plt\n",
    "import numpy as np"
   ]
  },
  {
   "cell_type": "code",
   "execution_count": 2,
   "id": "885be30b-a5cc-49d2-8ff6-ae0a7f6b1906",
   "metadata": {},
   "outputs": [
    {
     "data": {
      "image/png": "[encoded data removed]",
      "text/plain": [
       "<Figure size 1080x216 with 10 Axes>"
      ]
     },
     "metadata": {
      "needs_background": "light"
     },
     "output_type": "display_data"
    }
   ],
   "source": [
    "obfuscator = importlib.machinery.SourceFileLoader('obfuscator', './obfuscator.py').load_module()\n",
    "X, y = obfuscator.get_obfuscated_dataset()\n",
    "_, axes = plt.subplots(nrows=1, ncols=10, figsize=(15, 3))\n",
    "for ax, image, label in zip(axes, X, y):\n",
    "    ax.set_axis_off()\n",
    "    ax.imshow(image, cmap=plt.cm.gray_r, interpolation=\"nearest\")\n",
    "    ax.set_title(\"Training: %i\" % label)"
   ]
  },
  {
   "cell_type": "code",
   "execution_count": 3,
   "id": "05b82db8-130d-4503-b1c0-dc7d7e752052",
   "metadata": {},
   "outputs": [
    {
     "name": "stdout",
     "output_type": "stream",
     "text": [
      "A total of 1797 images are in this dataset\n"
     ]
    }
   ],
   "source": [
    "n_samples = len(X)\n",
    "print(f\"A total of {n_samples} images are in this dataset\")"
   ]
  },
  {
   "cell_type": "code",
   "execution_count": 4,
   "id": "f8287230-9a60-4677-8b84-4e1a46817106",
   "metadata": {},
   "outputs": [
    {
     "data": {
      "text/plain": [
       "array([ 1.92810491,  3.95140562,  2.91418697,  2.31021492,  4.50536514,\n",
       "        3.09844926,  1.61688362,  1.24221155,  3.816046  ,  1.08257086,\n",
       "       -0.04273379,  3.19554704,  2.24937003,  2.28181661,  5.55789047,\n",
       "        3.79633092,  1.48666927,  5.74363139,  4.11561923,  6.8668679 ,\n",
       "        3.1120256 ,  4.66031342,  1.36708256,  7.09095803,  7.91058524,\n",
       "        1.28478875,  2.86732824,  5.96507292,  3.97692493,  1.27325709,\n",
       "        6.54024027,  3.01305536,  4.40321062,  3.17944861,  2.2100775 ,\n",
       "        5.16295133,  6.98340045,  2.37138075,  3.39645126,  2.2100775 ,\n",
       "        7.44854919,  1.20802261,  4.54724882,  6.62734898,  2.94371059,\n",
       "        6.42111229,  7.17569456,  5.05130861,  2.3439711 ,  1.32416281,\n",
       "        6.26684665,  3.17967906,  6.66696547,  3.10184241,  8.98741247,\n",
       "        3.63684655,  6.77946878,  3.97692493,  6.78326292,  4.26129788,\n",
       "        7.80460595,  7.81960415,  9.16762577,  7.068288  ,  2.80626564,\n",
       "        8.10186753,  6.67797999,  6.02481354,  4.36591969,  5.62046126,\n",
       "        5.3607182 ,  4.00234359,  5.26680362,  3.71035057,  3.6905683 ,\n",
       "        6.91282344,  4.90765346,  6.49711301,  4.98631597,  2.46049885,\n",
       "        3.52203564,  5.79768421,  4.93631466,  9.07957573,  7.23258803,\n",
       "        6.61792225,  4.18273604,  2.76319047,  7.06577222,  6.92868164,\n",
       "        7.22907258,  5.74650372,  5.77460025,  4.25975412,  2.35256342,\n",
       "        8.11413355,  7.10767232,  2.7857438 ,  7.23258803,  4.2785799 ])"
      ]
     },
     "execution_count": 4,
     "metadata": {},
     "output_type": "execute_result"
    }
   ],
   "source": [
    "from sklearn.linear_model import ElasticNet\n",
    "\n",
    "data = X.reshape((n_samples, -1))\n",
    "\n",
    "clf = ElasticNet()\n",
    "\n",
    "# Split data into 50% train and 50% test subsets\n",
    "X_train, X_test, y_train, y_test = train_test_split(\n",
    "    data, y, test_size=0.5, shuffle=False\n",
    ")\n",
    "\n",
    "# Learn the digits on the train subset\n",
    "clf.fit(X_train, y_train)\n",
    "\n",
    "# Predict the value of the digit on the test subset\n",
    "predicted = clf.predict(X_test)\n",
    "np.random.choice(a=predicted, size=100)"
   ]
  },
  {
   "cell_type": "code",
   "execution_count": 5,
   "id": "a23ec75a-0d42-4375-b5bb-1c06e97dd22e",
   "metadata": {},
   "outputs": [
    {
     "data": {
      "text/plain": [
       "array([6., 6., 9., 6., 8., 7., 6., 4., 6., 4., 7., 2., 4., 4., 4., 4., 2.,\n",
       "       5., 5., 7., 8., 6., 3., 7., 8., 4., 4., 7., 2., 5., 5., 5., 8., 8.,\n",
       "       4., 1., 3., 6., 7., 8., 2., 7., 6., 4., 3., 7., 4., 6., 2., 8., 2.,\n",
       "       1., 3., 5., 7., 8., 5., 4., 5., 4., 4., 6., 6., 7., 5., 7., 5., 2.,\n",
       "       6., 7., 4., 6., 6., 2., 3., 3., 1., 8., 4., 4., 2., 1., 8., 2., 5.,\n",
       "       4., 7., 4., 4., 3., 4., 5., 4., 4., 3., 7., 8., 3., 2., 4.])"
      ]
     },
     "execution_count": 5,
     "metadata": {},
     "output_type": "execute_result"
    }
   ],
   "source": [
    "# This model is very naive, we need to convert regression results to discrete results.\n",
    "predicted = np.rint(predicted)\n",
    "np.random.choice(a=predicted, size=100)"
   ]
  },
  {
   "cell_type": "code",
   "execution_count": 6,
   "id": "69bec2cc-d364-4ac1-ac8c-bf8d07911e07",
   "metadata": {},
   "outputs": [
    {
     "name": "stdout",
     "output_type": "stream",
     "text": [
      "Classification report for classifier ElasticNet():\n",
      "              precision    recall  f1-score   support\n",
      "\n",
      "           0       0.86      0.07      0.13        88\n",
      "           1       0.00      0.00      0.00        91\n",
      "           2       0.36      0.40      0.38        86\n",
      "           3       0.12      0.16      0.14        91\n",
      "           4       0.14      0.23      0.17        92\n",
      "           5       0.24      0.42      0.30        91\n",
      "           6       0.15      0.24      0.19        91\n",
      "           7       0.36      0.51      0.42        89\n",
      "           8       0.26      0.12      0.17        88\n",
      "           9       0.50      0.05      0.10        92\n",
      "\n",
      "    accuracy                           0.22       899\n",
      "   macro avg       0.30      0.22      0.20       899\n",
      "weighted avg       0.30      0.22      0.20       899\n",
      "\n",
      "\n"
     ]
    }
   ],
   "source": [
    "print(\n",
    "    f\"Classification report for classifier {clf}:\\n\"\n",
    "    f\"{metrics.classification_report(y_test, predicted)}\\n\"\n",
    ")"
   ]
  },
  {
   "cell_type": "code",
   "execution_count": 7,
   "id": "72808188-cb4d-4f6d-9f17-df54d18349e5",
   "metadata": {},
   "outputs": [
    {
     "name": "stdout",
     "output_type": "stream",
     "text": [
      "Confusion matrix:\n",
      "[[ 6 16 30 23 12  1  0  0  0  0]\n",
      " [ 0  0 12 29 38 11  1  0  0  0]\n",
      " [ 0 17 34 21 10  4  0  0  0  0]\n",
      " [ 0  0  7 15 30 25  9  5  0  0]\n",
      " [ 0  9  6 22 21 17 11  4  2  0]\n",
      " [ 1  0  1  0 10 38 24 16  1  0]\n",
      " [ 0  0  2  4 11 32 22 16  4  0]\n",
      " [ 0  0  0  0  2  6 27 45  9  0]\n",
      " [ 0  0  1  3 11 14 28 15 11  5]\n",
      " [ 0  0  1  7  6 13 20 24 16  5]]\n"
     ]
    },
    {
     "data": {
      "image/png": "[encoded data removed]",
      "text/plain": [
       "<Figure size 432x288 with 2 Axes>"
      ]
     },
     "metadata": {
      "needs_background": "light"
     },
     "output_type": "display_data"
    }
   ],
   "source": [
    "disp = metrics.ConfusionMatrixDisplay.from_predictions(y_test, predicted)\n",
    "disp.figure_.suptitle(\"Confusion Matrix\")\n",
    "print(f\"Confusion matrix:\\n{disp.confusion_matrix}\")\n",
    "\n",
    "plt.show()"
   ]
  }
 ],
 "metadata": {
  "kernelspec": {
   "display_name": "Python 3 (ipykernel)",
   "language": "python",
   "name": "python3"
  },
  "language_info": {
   "codemirror_mode": {
    "name": "ipython",
    "version": 3
   },
   "file_extension": ".py",
   "mimetype": "text/x-python",
   "name": "python",
   "nbconvert_exporter": "python",
   "pygments_lexer": "ipython3",
   "version": "3.9.2"
  }
 },
 "nbformat": 4,
 "nbformat_minor": 5
}
