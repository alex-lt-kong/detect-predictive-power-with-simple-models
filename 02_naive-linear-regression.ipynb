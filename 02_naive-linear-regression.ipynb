{
 "cells": [
  {
   "cell_type": "code",
   "execution_count": 1,
   "id": "2088541a-63de-4340-a8d7-134bab098c89",
   "metadata": {},
   "outputs": [],
   "source": [
    "import matplotlib.pyplot as plt\n",
    "\n",
    "# Import datasets, classifiers and performance metrics\n",
    "from sklearn import datasets, svm, metrics\n",
    "from sklearn.model_selection import train_test_split\n",
    "import numpy as np"
   ]
  },
  {
   "cell_type": "code",
   "execution_count": 2,
   "id": "885be30b-a5cc-49d2-8ff6-ae0a7f6b1906",
   "metadata": {},
   "outputs": [
    {
     "data": {
      "image/png": "[encoded data removed]",
      "text/plain": [
       "<Figure size 720x216 with 8 Axes>"
      ]
     },
     "metadata": {
      "needs_background": "light"
     },
     "output_type": "display_data"
    }
   ],
   "source": [
    "digits = datasets.load_digits()\n",
    "\n",
    "_, axes = plt.subplots(nrows=1, ncols=8, figsize=(10, 3))\n",
    "for ax, image, label in zip(axes, digits.images, digits.target):\n",
    "    ax.set_axis_off()\n",
    "    ax.imshow(image, cmap=plt.cm.gray_r, interpolation=\"nearest\")\n",
    "    ax.set_title(\"Training: %i\" % label)"
   ]
  },
  {
   "cell_type": "code",
   "execution_count": 3,
   "id": "05b82db8-130d-4503-b1c0-dc7d7e752052",
   "metadata": {},
   "outputs": [
    {
     "name": "stdout",
     "output_type": "stream",
     "text": [
      "A total of 1797 images are in this dataset\n"
     ]
    }
   ],
   "source": [
    "n_samples = len(digits.images)\n",
    "print(f\"A total of {n_samples} images are in this dataset\")"
   ]
  },
  {
   "cell_type": "code",
   "execution_count": 4,
   "id": "f8287230-9a60-4677-8b84-4e1a46817106",
   "metadata": {},
   "outputs": [
    {
     "data": {
      "text/plain": [
       "array([6.54318124, 3.10191313, 6.28788486, 2.68253329, 4.49171927,\n",
       "       5.77007473, 3.78095289, 7.04104784, 6.32433091, 5.95703847,\n",
       "       1.43552512, 2.87026585, 4.92282612, 2.53087281, 6.40651234,\n",
       "       1.85396968, 3.33949602, 2.18609851, 5.16564807, 5.85886867,\n",
       "       4.64269363, 4.90360004, 6.4579428 , 2.00415636, 6.45082494,\n",
       "       6.22822064, 3.17889039, 6.66417822, 5.61072406, 6.23015117,\n",
       "       2.30632063, 4.14809496, 3.82687146, 6.30788565, 4.37105837,\n",
       "       3.3585766 , 6.67432549, 5.21418462, 4.5621641 , 2.73974103,\n",
       "       7.89911175, 6.55242036, 4.86293435, 6.18334693, 6.17587265,\n",
       "       1.57121759, 6.32508943, 1.43643071, 4.56827961, 4.1039731 ,\n",
       "       5.22923175, 2.21419907, 5.8651895 , 7.20943937, 6.1908864 ,\n",
       "       7.89273248, 3.2746398 , 6.11493757, 6.10943198, 4.5621641 ,\n",
       "       5.55501994, 3.86304225, 4.92282612, 1.56990415, 8.22640771,\n",
       "       6.28788486, 4.4033226 , 4.78464432, 6.69370011, 7.7471172 ,\n",
       "       7.67667805, 3.80075592, 6.68009006, 3.013349  , 2.46109368,\n",
       "       2.04800079, 3.63653696, 5.43241748, 7.25797723, 5.01165744,\n",
       "       6.69370011, 7.33827557, 3.94376082, 7.31125367, 4.66295533,\n",
       "       3.18169456, 3.09433975, 5.01165744, 4.32732374, 7.07962856,\n",
       "       4.00738193, 5.47885287, 2.35719223, 1.85396968, 4.52433226,\n",
       "       4.90383163, 4.69808791, 4.49171927, 2.50724786, 4.42647201])"
      ]
     },
     "execution_count": 4,
     "metadata": {},
     "output_type": "execute_result"
    }
   ],
   "source": [
    "from sklearn.linear_model import ElasticNet\n",
    "# flatten the images\n",
    "data = digits.images.reshape((n_samples, -1))\n",
    "\n",
    "clf = ElasticNet()\n",
    "\n",
    "# Split data into 50% train and 50% test subsets\n",
    "X_train, X_test, y_train, y_test = train_test_split(\n",
    "    data, digits.target, test_size=0.5, shuffle=False\n",
    ")\n",
    "\n",
    "# Learn the digits on the train subset\n",
    "clf.fit(X_train, y_train)\n",
    "predicted = clf.predict(X_test)\n",
    "# Predict the value of the digit on the test subset\n",
    "np.random.choice(a=predicted, size=100)"
   ]
  },
  {
   "cell_type": "code",
   "execution_count": 5,
   "id": "f131f15c-3d1a-4ca8-a7ee-258dc00b86d4",
   "metadata": {},
   "outputs": [
    {
     "data": {
      "text/plain": [
       "array([2., 5., 4., 5., 5., 6., 6., 2., 6., 2., 6., 2., 2., 6., 5., 6., 7.,\n",
       "       5., 3., 5., 2., 1., 7., 7., 4., 1., 5., 7., 4., 5., 5., 5., 2., 7.,\n",
       "       4., 3., 7., 6., 3., 8., 1., 3., 5., 5., 5., 6., 2., 3., 7., 1., 9.,\n",
       "       9., 7., 3., 6., 5., 5., 3., 5., 6., 4., 7., 4., 5., 4., 3., 6., 6.,\n",
       "       4., 7., 6., 3., 5., 5., 5., 4., 5., 3., 3., 7., 6., 6., 5., 4., 3.,\n",
       "       6., 5., 8., 6., 2., 6., 1., 6., 7., 6., 5., 2., 2., 2., 6.])"
      ]
     },
     "execution_count": 5,
     "metadata": {},
     "output_type": "execute_result"
    }
   ],
   "source": [
    "# This model is very naive, we need to convert regression results to discrete results.\n",
    "predicted = np.rint(predicted)\n",
    "np.random.choice(a=predicted, size=100)"
   ]
  },
  {
   "cell_type": "code",
   "execution_count": 6,
   "id": "69bec2cc-d364-4ac1-ac8c-bf8d07911e07",
   "metadata": {},
   "outputs": [
    {
     "name": "stdout",
     "output_type": "stream",
     "text": [
      "Classification report for classifier ElasticNet():\n",
      "              precision    recall  f1-score   support\n",
      "\n",
      "           0       0.86      0.07      0.13        88\n",
      "           1       0.00      0.00      0.00        91\n",
      "           2       0.36      0.40      0.38        86\n",
      "           3       0.12      0.16      0.14        91\n",
      "           4       0.14      0.23      0.17        92\n",
      "           5       0.24      0.42      0.30        91\n",
      "           6       0.15      0.24      0.19        91\n",
      "           7       0.36      0.51      0.42        89\n",
      "           8       0.26      0.12      0.17        88\n",
      "           9       0.50      0.05      0.10        92\n",
      "\n",
      "    accuracy                           0.22       899\n",
      "   macro avg       0.30      0.22      0.20       899\n",
      "weighted avg       0.30      0.22      0.20       899\n",
      "\n",
      "\n"
     ]
    }
   ],
   "source": [
    "print(\n",
    "    f\"Classification report for classifier {clf}:\\n\"\n",
    "    f\"{metrics.classification_report(y_test, predicted)}\\n\"\n",
    ")"
   ]
  },
  {
   "cell_type": "code",
   "execution_count": 7,
   "id": "72808188-cb4d-4f6d-9f17-df54d18349e5",
   "metadata": {},
   "outputs": [
    {
     "name": "stdout",
     "output_type": "stream",
     "text": [
      "Confusion matrix:\n",
      "[[ 6 16 30 23 12  1  0  0  0  0]\n",
      " [ 0  0 12 29 38 11  1  0  0  0]\n",
      " [ 0 17 34 21 10  4  0  0  0  0]\n",
      " [ 0  0  7 15 30 25  9  5  0  0]\n",
      " [ 0  9  6 22 21 17 11  4  2  0]\n",
      " [ 1  0  1  0 10 38 24 16  1  0]\n",
      " [ 0  0  2  4 11 32 22 16  4  0]\n",
      " [ 0  0  0  0  2  6 27 45  9  0]\n",
      " [ 0  0  1  3 11 14 28 15 11  5]\n",
      " [ 0  0  1  7  6 13 20 24 16  5]]\n"
     ]
    },
    {
     "data": {
      "image/png": "[encoded data removed]",
      "text/plain": [
       "<Figure size 432x288 with 2 Axes>"
      ]
     },
     "metadata": {
      "needs_background": "light"
     },
     "output_type": "display_data"
    }
   ],
   "source": [
    "disp = metrics.ConfusionMatrixDisplay.from_predictions(y_test, predicted)\n",
    "disp.figure_.suptitle(\"Confusion Matrix\")\n",
    "print(f\"Confusion matrix:\\n{disp.confusion_matrix}\")\n",
    "\n",
    "plt.show()"
   ]
  }
 ],
 "metadata": {
  "kernelspec": {
   "display_name": "Python 3 (ipykernel)",
   "language": "python",
   "name": "python3"
  },
  "language_info": {
   "codemirror_mode": {
    "name": "ipython",
    "version": 3
   },
   "file_extension": ".py",
   "mimetype": "text/x-python",
   "name": "python",
   "nbconvert_exporter": "python",
   "pygments_lexer": "ipython3",
   "version": "3.9.2"
  }
 },
 "nbformat": 4,
 "nbformat_minor": 5
}
